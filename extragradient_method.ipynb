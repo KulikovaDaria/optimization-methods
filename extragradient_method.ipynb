{
 "cells": [
  {
   "cell_type": "code",
   "execution_count": null,
   "metadata": {},
   "outputs": [],
   "source": [
    "import numpy as np\n",
    "import matplotlib.pyplot as plt\n",
    "from math import sqrt, fabs\n",
    "from prettytable import PrettyTable as pt"
   ]
  },
  {
   "cell_type": "code",
   "execution_count": null,
   "metadata": {},
   "outputs": [],
   "source": [
    "print(\"Введите номер примера\")\n",
    "k = int(input())\n",
    "if k == 1:\n",
    "    # Пример 1\n",
    "    a = np.array([2, -1, 1, 0, 1])\n",
    "    b = np.array([0, 1, 3, 0, -2])\n",
    "else:\n",
    "    # Пример 2\n",
    "    a = np.array([1, 2, 3, -1])\n",
    "    b = np.array([-1, 2, 0, 3])"
   ]
  },
  {
   "cell_type": "code",
   "execution_count": null,
   "metadata": {},
   "outputs": [],
   "source": [
    "# ||x|| ^ 2\n",
    "def norm2(x):\n",
    "    res = 0\n",
    "    for el in x:\n",
    "        res += el * el\n",
    "    return res\n",
    "\n",
    "def J(x):\n",
    "    return norm2(x - a)\n",
    "\n",
    "def g1(x):\n",
    "    return norm2(x) - 2 * b.dot(x)\n",
    "\n",
    "def g2(x):\n",
    "    return norm2(b) - b.dot(x)\n",
    "\n",
    "# Производная нормальной функции Лагранжа по x\n",
    "def Lx(x, l):\n",
    "    return 2 * (x - a) + l[0] * (2 * x - 2 * b) - l[1] * b\n",
    "\n",
    "# Производная нормальной функции Лагранжа по lambda\n",
    "def Ll(x, l):\n",
    "    return np.array([g1(x), g2(x)])"
   ]
  },
  {
   "cell_type": "code",
   "execution_count": null,
   "metadata": {},
   "outputs": [],
   "source": [
    "norm2a = norm2(a)\n",
    "norm2b = norm2(b)\n",
    "dot_ab = a.dot(b)"
   ]
  },
  {
   "cell_type": "code",
   "execution_count": null,
   "metadata": {},
   "outputs": [],
   "source": [
    "# Проекция на гиперплоскость <b, x> = ||b|| ^ 2\n",
    "def Ph(x):\n",
    "    return x + (norm2b - x.dot(b)) * b / norm2b\n",
    "\n",
    "# Проекция на шар ||x - b|| <= ||b||\n",
    "def Pb(x):\n",
    "    return b + sqrt(norm2b) * (x - b) / sqrt(norm2(x - b))\n",
    "\n",
    "# Проекция на множество X0 = En\n",
    "def Px(x):\n",
    "    return x\n",
    "\n",
    "# Проекция на множество Lambda0\n",
    "def Pl(l):\n",
    "    for i in range(l.size):\n",
    "        l[i] = max(l[i], 0)\n",
    "    return l"
   ]
  },
  {
   "cell_type": "code",
   "execution_count": null,
   "metadata": {},
   "outputs": [],
   "source": [
    "def Draw(dJ, dx, idx, n):\n",
    "    fig = plt.figure()\n",
    "    plt.plot(idx, dJ)\n",
    "    for i in range(n):\n",
    "        plt.plot(idx, dx[i])"
   ]
  },
  {
   "cell_type": "code",
   "execution_count": null,
   "metadata": {},
   "outputs": [],
   "source": [
    "def ExtragradientMethod(x0, lamb0, alpha):\n",
    "    \n",
    "    dJ = [J(x0)]\n",
    "    di = [0]\n",
    "    dx = []\n",
    "    for i in range(x0.size):\n",
    "        dx.append([x0[i]])\n",
    "    \n",
    "    x = np.array(x0)\n",
    "    lamb = np.array(lamb0)\n",
    "    d = 1\n",
    "    idx = 0\n",
    "    \n",
    "    while d > 1e-7:\n",
    "        \n",
    "        # Прогнозный шаг\n",
    "        xx = Px(x0 - alpha * Lx(x0, lamb0))\n",
    "        ll = Pl(lamb0 + alpha * Ll(x0, lamb0))\n",
    "\n",
    "        # Основной шаг\n",
    "        x = Px(x0 - alpha * Lx(xx, ll))\n",
    "        lamb = Pl(lamb0 + alpha * Ll(xx, ll))\n",
    "        \n",
    "        d = sqrt(norm2(x - x0)) + sqrt(norm2(lamb - lamb0))\n",
    "        #d = fabs(J(x) - J(x0))\n",
    "        \n",
    "        x0 = np.array(x)\n",
    "        lamb0 = np.array(lamb)\n",
    "\n",
    "        # Значения для графика\n",
    "        dJ.append(J(x))\n",
    "        for i in range(x.size):\n",
    "            dx[i].append(x[i])\n",
    "        di.append(idx)\n",
    "        \n",
    "        idx += 1\n",
    "    \n",
    "    Draw(dJ, dx, di, x.size)\n",
    "    return x, lamb, idx"
   ]
  },
  {
   "cell_type": "code",
   "execution_count": null,
   "metadata": {},
   "outputs": [],
   "source": [
    "# Параметры метода\n",
    "x0 = np.array(b)\n",
    "lamb0 = np.array([0, 0])\n",
    "alpha = 0.001\n",
    "\n",
    "x, lamb, n = ExtragradientMethod(x0, lamb0, alpha)\n",
    "print('x = ', x.round(3))\n",
    "print('lambda = ', lamb.round(3))\n",
    "print('J(x) = ', J(x).round(3))"
   ]
  },
  {
   "cell_type": "code",
   "execution_count": null,
   "metadata": {},
   "outputs": [],
   "source": []
  }
 ],
 "metadata": {
  "celltoolbar": "Raw Cell Format",
  "kernelspec": {
   "display_name": "Python 3",
   "language": "python",
   "name": "python3"
  },
  "language_info": {
   "codemirror_mode": {
    "name": "ipython",
    "version": 3
   },
   "file_extension": ".py",
   "mimetype": "text/x-python",
   "name": "python",
   "nbconvert_exporter": "python",
   "pygments_lexer": "ipython3",
   "version": "3.7.1"
  }
 },
 "nbformat": 4,
 "nbformat_minor": 2
}
